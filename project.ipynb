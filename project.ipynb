{
 "cells": [
  {
   "attachments": {},
   "cell_type": "markdown",
   "id": "c4e52ee5",
   "metadata": {},
   "source": [
    "## The dataset\n",
    "\n",
    "This is a real dataset and it was downloaded using web scraping techniques. The data contains registers from fotocasa which is one of the most popular websites of real estate in Spain. Please, do not do this (web scraping) unless it is for academic purposes.\n",
    "\n",
    "The dataset was downloaded a few years ago by Henry Navarro and In no case were economic returns obtained from it.\n",
    "\n",
    "It contains thousands of data from real homes published on the web www.fotocasa.com. Your goal is to extract as much information as possible with the knowledge you have so far about data science, for example what is the most expensive home in the entire dataset?\n",
    "\n",
    "Let's start with precisely that question... Good luck!\n"
   ]
  },
  {
   "attachments": {},
   "cell_type": "markdown",
   "id": "dd97255d",
   "metadata": {},
   "source": [
    "#### Read the dataset assets/real_estate.csv and try to visualize the table (★☆☆)"
   ]
  },
  {
   "cell_type": "code",
   "execution_count": 2,
   "metadata": {},
   "outputs": [],
   "source": [
    "#Libraries\n",
    "import pandas as pd\n",
    "from matplotlib import pyplot as plt\n",
    "from ipyleaflet import Map, basemaps, CircleMarker\n",
    "import random\n",
    "import matplotlib.colors as colors"
   ]
  },
  {
   "cell_type": "code",
   "execution_count": 3,
   "id": "4b93d9c8",
   "metadata": {},
   "outputs": [
    {
     "data": {
      "text/html": [
       "<div>\n",
       "<style scoped>\n",
       "    .dataframe tbody tr th:only-of-type {\n",
       "        vertical-align: middle;\n",
       "    }\n",
       "\n",
       "    .dataframe tbody tr th {\n",
       "        vertical-align: top;\n",
       "    }\n",
       "\n",
       "    .dataframe thead th {\n",
       "        text-align: right;\n",
       "    }\n",
       "</style>\n",
       "<table border=\"1\" class=\"dataframe\">\n",
       "  <thead>\n",
       "    <tr style=\"text-align: right;\">\n",
       "      <th></th>\n",
       "      <th>Unnamed: 0</th>\n",
       "      <th>id_realEstates</th>\n",
       "      <th>isNew</th>\n",
       "      <th>realEstate_name</th>\n",
       "      <th>phone_realEstate</th>\n",
       "      <th>url_inmueble</th>\n",
       "      <th>rooms</th>\n",
       "      <th>bathrooms</th>\n",
       "      <th>surface</th>\n",
       "      <th>price</th>\n",
       "      <th>date</th>\n",
       "      <th>description</th>\n",
       "      <th>address</th>\n",
       "      <th>country</th>\n",
       "      <th>level1</th>\n",
       "      <th>level2</th>\n",
       "      <th>level3</th>\n",
       "      <th>level4</th>\n",
       "      <th>level5</th>\n",
       "      <th>level6</th>\n",
       "      <th>level7</th>\n",
       "      <th>level8</th>\n",
       "      <th>upperLevel</th>\n",
       "      <th>countryId</th>\n",
       "      <th>level1Id</th>\n",
       "      <th>level2Id</th>\n",
       "      <th>level3Id</th>\n",
       "      <th>level4Id</th>\n",
       "      <th>level5Id</th>\n",
       "      <th>level6Id</th>\n",
       "      <th>level7Id</th>\n",
       "      <th>level8Id</th>\n",
       "      <th>accuracy</th>\n",
       "      <th>latitude</th>\n",
       "      <th>longitude</th>\n",
       "      <th>zipCode</th>\n",
       "      <th>customZone</th>\n",
       "    </tr>\n",
       "  </thead>\n",
       "  <tbody>\n",
       "    <tr>\n",
       "      <th>0</th>\n",
       "      <td>1</td>\n",
       "      <td>153771986</td>\n",
       "      <td>False</td>\n",
       "      <td>ferrari 57 inmobiliaria</td>\n",
       "      <td>912177526.0</td>\n",
       "      <td>https://www.fotocasa.es/es/comprar/vivienda/ma...</td>\n",
       "      <td>3.0</td>\n",
       "      <td>2.0</td>\n",
       "      <td>103.0</td>\n",
       "      <td>195000</td>\n",
       "      <td>2019-12-28T18:27:15.9975027Z</td>\n",
       "      <td>Ponemos a la venta piso de 3 dormitorios con t...</td>\n",
       "      <td>Calle Presidente Felipe Gonzalez, Arganda del Rey</td>\n",
       "      <td>España</td>\n",
       "      <td>Madrid</td>\n",
       "      <td>Madrid</td>\n",
       "      <td>Madrid Sureste - Cuenca Tajuña</td>\n",
       "      <td>Arganda del Rey, Zona de</td>\n",
       "      <td>Arganda del Rey</td>\n",
       "      <td>NaN</td>\n",
       "      <td>Perlita</td>\n",
       "      <td>NaN</td>\n",
       "      <td>Perlita</td>\n",
       "      <td>0</td>\n",
       "      <td>0</td>\n",
       "      <td>0</td>\n",
       "      <td>0</td>\n",
       "      <td>0</td>\n",
       "      <td>0</td>\n",
       "      <td>0</td>\n",
       "      <td>0</td>\n",
       "      <td>0</td>\n",
       "      <td>0</td>\n",
       "      <td>40,2948276786438</td>\n",
       "      <td>-3,44402412135624</td>\n",
       "      <td>NaN</td>\n",
       "      <td>NaN</td>\n",
       "    </tr>\n",
       "    <tr>\n",
       "      <th>1</th>\n",
       "      <td>2</td>\n",
       "      <td>153867863</td>\n",
       "      <td>False</td>\n",
       "      <td>tecnocasa fuenlabrada ferrocarril</td>\n",
       "      <td>916358736.0</td>\n",
       "      <td>https://www.fotocasa.es/es/comprar/vivienda/ma...</td>\n",
       "      <td>3.0</td>\n",
       "      <td>1.0</td>\n",
       "      <td>NaN</td>\n",
       "      <td>89000</td>\n",
       "      <td>2019-12-28T18:27:15.9975027Z</td>\n",
       "      <td>\"\"Agencia inmobiliaria de FUENLABRADA - zona F...</td>\n",
       "      <td>Calle Polvoranca, 6, Fuenlabrada</td>\n",
       "      <td>España</td>\n",
       "      <td>Madrid</td>\n",
       "      <td>Madrid</td>\n",
       "      <td>Zona Sur de Madrid</td>\n",
       "      <td>Fuenlabrada, Zona de</td>\n",
       "      <td>Fuenlabrada</td>\n",
       "      <td>NaN</td>\n",
       "      <td>Centro</td>\n",
       "      <td>NaN</td>\n",
       "      <td>Centro</td>\n",
       "      <td>0</td>\n",
       "      <td>0</td>\n",
       "      <td>0</td>\n",
       "      <td>0</td>\n",
       "      <td>0</td>\n",
       "      <td>0</td>\n",
       "      <td>0</td>\n",
       "      <td>0</td>\n",
       "      <td>0</td>\n",
       "      <td>1</td>\n",
       "      <td>40,28674</td>\n",
       "      <td>-3,79351</td>\n",
       "      <td>NaN</td>\n",
       "      <td>NaN</td>\n",
       "    </tr>\n",
       "    <tr>\n",
       "      <th>2</th>\n",
       "      <td>3</td>\n",
       "      <td>153430440</td>\n",
       "      <td>False</td>\n",
       "      <td>look find boadilla</td>\n",
       "      <td>916350408.0</td>\n",
       "      <td>https://www.fotocasa.es/es/comprar/vivienda/ma...</td>\n",
       "      <td>2.0</td>\n",
       "      <td>2.0</td>\n",
       "      <td>99.0</td>\n",
       "      <td>390000</td>\n",
       "      <td>2019-12-28T18:27:15.9975027Z</td>\n",
       "      <td>Lookandfind Boadilla, vende en exclusiva, piso...</td>\n",
       "      <td>Calle Reyes Católicos, Boadilla del Monte</td>\n",
       "      <td>España</td>\n",
       "      <td>Madrid</td>\n",
       "      <td>Madrid</td>\n",
       "      <td>Zona Noroeste</td>\n",
       "      <td>Boadilla del Monte, Zona de</td>\n",
       "      <td>Boadilla del Monte</td>\n",
       "      <td>NaN</td>\n",
       "      <td>Sector B</td>\n",
       "      <td>NaN</td>\n",
       "      <td>Sector B</td>\n",
       "      <td>0</td>\n",
       "      <td>0</td>\n",
       "      <td>0</td>\n",
       "      <td>0</td>\n",
       "      <td>0</td>\n",
       "      <td>0</td>\n",
       "      <td>0</td>\n",
       "      <td>0</td>\n",
       "      <td>0</td>\n",
       "      <td>0</td>\n",
       "      <td>40,4115646786438</td>\n",
       "      <td>-3,90662252135624</td>\n",
       "      <td>NaN</td>\n",
       "      <td>NaN</td>\n",
       "    </tr>\n",
       "    <tr>\n",
       "      <th>3</th>\n",
       "      <td>4</td>\n",
       "      <td>152776331</td>\n",
       "      <td>False</td>\n",
       "      <td>tecnocasa fuenlabrada ferrocarril</td>\n",
       "      <td>916358736.0</td>\n",
       "      <td>https://www.fotocasa.es/es/comprar/vivienda/ma...</td>\n",
       "      <td>3.0</td>\n",
       "      <td>1.0</td>\n",
       "      <td>86.0</td>\n",
       "      <td>89000</td>\n",
       "      <td>2019-12-28T18:27:15.9975027Z</td>\n",
       "      <td>Agencia inmobiliaria de FUENLABRADA - zona Fue...</td>\n",
       "      <td>Barrio San Andres, Fuenlabrada</td>\n",
       "      <td>España</td>\n",
       "      <td>Madrid</td>\n",
       "      <td>Madrid</td>\n",
       "      <td>Zona Sur de Madrid</td>\n",
       "      <td>Fuenlabrada, Zona de</td>\n",
       "      <td>Fuenlabrada</td>\n",
       "      <td>NaN</td>\n",
       "      <td>Centro</td>\n",
       "      <td>NaN</td>\n",
       "      <td>Centro</td>\n",
       "      <td>0</td>\n",
       "      <td>0</td>\n",
       "      <td>0</td>\n",
       "      <td>0</td>\n",
       "      <td>0</td>\n",
       "      <td>0</td>\n",
       "      <td>0</td>\n",
       "      <td>0</td>\n",
       "      <td>0</td>\n",
       "      <td>0</td>\n",
       "      <td>40,2853785786438</td>\n",
       "      <td>-3,79508142135624</td>\n",
       "      <td>NaN</td>\n",
       "      <td>NaN</td>\n",
       "    </tr>\n",
       "    <tr>\n",
       "      <th>4</th>\n",
       "      <td>5</td>\n",
       "      <td>153180188</td>\n",
       "      <td>False</td>\n",
       "      <td>ferrari 57 inmobiliaria</td>\n",
       "      <td>912177526.0</td>\n",
       "      <td>https://www.fotocasa.es/es/comprar/vivienda/ma...</td>\n",
       "      <td>2.0</td>\n",
       "      <td>2.0</td>\n",
       "      <td>106.0</td>\n",
       "      <td>172000</td>\n",
       "      <td>2019-12-28T18:27:15.9975027Z</td>\n",
       "      <td>PISOS DE OBRA NUEVA DE 2 Y 3 DORMITORIOS. OBRA...</td>\n",
       "      <td>Arganda del Rey</td>\n",
       "      <td>España</td>\n",
       "      <td>Madrid</td>\n",
       "      <td>Madrid</td>\n",
       "      <td>Madrid Sureste - Cuenca Tajuña</td>\n",
       "      <td>Arganda del Rey, Zona de</td>\n",
       "      <td>Arganda del Rey</td>\n",
       "      <td>NaN</td>\n",
       "      <td>Centro</td>\n",
       "      <td>NaN</td>\n",
       "      <td>Centro</td>\n",
       "      <td>0</td>\n",
       "      <td>0</td>\n",
       "      <td>0</td>\n",
       "      <td>0</td>\n",
       "      <td>0</td>\n",
       "      <td>0</td>\n",
       "      <td>0</td>\n",
       "      <td>0</td>\n",
       "      <td>0</td>\n",
       "      <td>0</td>\n",
       "      <td>40,2998774864376</td>\n",
       "      <td>-3,45226301356237</td>\n",
       "      <td>NaN</td>\n",
       "      <td>NaN</td>\n",
       "    </tr>\n",
       "    <tr>\n",
       "      <th>...</th>\n",
       "      <td>...</td>\n",
       "      <td>...</td>\n",
       "      <td>...</td>\n",
       "      <td>...</td>\n",
       "      <td>...</td>\n",
       "      <td>...</td>\n",
       "      <td>...</td>\n",
       "      <td>...</td>\n",
       "      <td>...</td>\n",
       "      <td>...</td>\n",
       "      <td>...</td>\n",
       "      <td>...</td>\n",
       "      <td>...</td>\n",
       "      <td>...</td>\n",
       "      <td>...</td>\n",
       "      <td>...</td>\n",
       "      <td>...</td>\n",
       "      <td>...</td>\n",
       "      <td>...</td>\n",
       "      <td>...</td>\n",
       "      <td>...</td>\n",
       "      <td>...</td>\n",
       "      <td>...</td>\n",
       "      <td>...</td>\n",
       "      <td>...</td>\n",
       "      <td>...</td>\n",
       "      <td>...</td>\n",
       "      <td>...</td>\n",
       "      <td>...</td>\n",
       "      <td>...</td>\n",
       "      <td>...</td>\n",
       "      <td>...</td>\n",
       "      <td>...</td>\n",
       "      <td>...</td>\n",
       "      <td>...</td>\n",
       "      <td>...</td>\n",
       "      <td>...</td>\n",
       "    </tr>\n",
       "    <tr>\n",
       "      <th>15330</th>\n",
       "      <td>15331</td>\n",
       "      <td>153901377</td>\n",
       "      <td>False</td>\n",
       "      <td>infocasa consulting</td>\n",
       "      <td>911360461.0</td>\n",
       "      <td>https://www.fotocasa.es/es/comprar/vivienda/ma...</td>\n",
       "      <td>2.0</td>\n",
       "      <td>1.0</td>\n",
       "      <td>96.0</td>\n",
       "      <td>259470</td>\n",
       "      <td>2019-12-17T18:19:00Z</td>\n",
       "      <td>¡¡¡IDEAL PROFESIONALES E INVERSORES¡¡¡ \\nINFOC...</td>\n",
       "      <td>Madrid Capital</td>\n",
       "      <td>España</td>\n",
       "      <td>Madrid</td>\n",
       "      <td>Madrid</td>\n",
       "      <td>Madrid, Zona de</td>\n",
       "      <td>NaN</td>\n",
       "      <td>Madrid Capital</td>\n",
       "      <td>NaN</td>\n",
       "      <td>Tetuán</td>\n",
       "      <td>Berruguete</td>\n",
       "      <td>Berruguete</td>\n",
       "      <td>0</td>\n",
       "      <td>0</td>\n",
       "      <td>0</td>\n",
       "      <td>0</td>\n",
       "      <td>0</td>\n",
       "      <td>0</td>\n",
       "      <td>0</td>\n",
       "      <td>0</td>\n",
       "      <td>0</td>\n",
       "      <td>0</td>\n",
       "      <td>40,45416</td>\n",
       "      <td>-3,70286</td>\n",
       "      <td>NaN</td>\n",
       "      <td>NaN</td>\n",
       "    </tr>\n",
       "    <tr>\n",
       "      <th>15331</th>\n",
       "      <td>15332</td>\n",
       "      <td>150394373</td>\n",
       "      <td>False</td>\n",
       "      <td>inmobiliaria pulpon</td>\n",
       "      <td>912788039.0</td>\n",
       "      <td>https://www.fotocasa.es/es/comprar/vivienda/ma...</td>\n",
       "      <td>3.0</td>\n",
       "      <td>1.0</td>\n",
       "      <td>150.0</td>\n",
       "      <td>165000</td>\n",
       "      <td>2019-12-17T18:19:00Z</td>\n",
       "      <td>Planta baja con cocinas, una de ellos posibili...</td>\n",
       "      <td>Velilla de San Antonio</td>\n",
       "      <td>España</td>\n",
       "      <td>Madrid</td>\n",
       "      <td>Madrid</td>\n",
       "      <td>Madrid Sureste - Cuenca Tajuña</td>\n",
       "      <td>Velilla de San Antonio, Zona de</td>\n",
       "      <td>Velilla de San Antonio</td>\n",
       "      <td>NaN</td>\n",
       "      <td>NaN</td>\n",
       "      <td>NaN</td>\n",
       "      <td>Velilla de San Antonio</td>\n",
       "      <td>0</td>\n",
       "      <td>0</td>\n",
       "      <td>0</td>\n",
       "      <td>0</td>\n",
       "      <td>0</td>\n",
       "      <td>0</td>\n",
       "      <td>0</td>\n",
       "      <td>0</td>\n",
       "      <td>0</td>\n",
       "      <td>0</td>\n",
       "      <td>40,36652</td>\n",
       "      <td>-3,48951</td>\n",
       "      <td>NaN</td>\n",
       "      <td>NaN</td>\n",
       "    </tr>\n",
       "    <tr>\n",
       "      <th>15332</th>\n",
       "      <td>15333</td>\n",
       "      <td>153901397</td>\n",
       "      <td>False</td>\n",
       "      <td>tecnocasa torrelodones</td>\n",
       "      <td>912780348.0</td>\n",
       "      <td>https://www.fotocasa.es/es/comprar/vivienda/ma...</td>\n",
       "      <td>4.0</td>\n",
       "      <td>2.0</td>\n",
       "      <td>175.0</td>\n",
       "      <td>495000</td>\n",
       "      <td>2019-12-17T18:19:00Z</td>\n",
       "      <td>NaN</td>\n",
       "      <td>Torrelodones</td>\n",
       "      <td>España</td>\n",
       "      <td>Madrid</td>\n",
       "      <td>Madrid</td>\n",
       "      <td>Zona Noroeste</td>\n",
       "      <td>Torrelodones, Zona de</td>\n",
       "      <td>Torrelodones</td>\n",
       "      <td>NaN</td>\n",
       "      <td>Casco Antiguo</td>\n",
       "      <td>NaN</td>\n",
       "      <td>Casco Antiguo</td>\n",
       "      <td>0</td>\n",
       "      <td>0</td>\n",
       "      <td>0</td>\n",
       "      <td>0</td>\n",
       "      <td>0</td>\n",
       "      <td>0</td>\n",
       "      <td>0</td>\n",
       "      <td>0</td>\n",
       "      <td>0</td>\n",
       "      <td>0</td>\n",
       "      <td>40,57444</td>\n",
       "      <td>-3,92124</td>\n",
       "      <td>NaN</td>\n",
       "      <td>NaN</td>\n",
       "    </tr>\n",
       "    <tr>\n",
       "      <th>15333</th>\n",
       "      <td>15334</td>\n",
       "      <td>152607440</td>\n",
       "      <td>False</td>\n",
       "      <td>inmobiliaria pulpon</td>\n",
       "      <td>912788039.0</td>\n",
       "      <td>https://www.fotocasa.es/es/comprar/vivienda/ma...</td>\n",
       "      <td>3.0</td>\n",
       "      <td>2.0</td>\n",
       "      <td>101.0</td>\n",
       "      <td>195000</td>\n",
       "      <td>2019-12-17T18:18:00Z</td>\n",
       "      <td>Piso de 3 dormitorios con armarios empotrados,...</td>\n",
       "      <td>Velilla de San Antonio</td>\n",
       "      <td>España</td>\n",
       "      <td>Madrid</td>\n",
       "      <td>Madrid</td>\n",
       "      <td>Madrid Sureste - Cuenca Tajuña</td>\n",
       "      <td>Velilla de San Antonio, Zona de</td>\n",
       "      <td>Velilla de San Antonio</td>\n",
       "      <td>NaN</td>\n",
       "      <td>NaN</td>\n",
       "      <td>NaN</td>\n",
       "      <td>Velilla de San Antonio</td>\n",
       "      <td>0</td>\n",
       "      <td>0</td>\n",
       "      <td>0</td>\n",
       "      <td>0</td>\n",
       "      <td>0</td>\n",
       "      <td>0</td>\n",
       "      <td>0</td>\n",
       "      <td>0</td>\n",
       "      <td>0</td>\n",
       "      <td>0</td>\n",
       "      <td>40,36967</td>\n",
       "      <td>-3,48105</td>\n",
       "      <td>NaN</td>\n",
       "      <td>NaN</td>\n",
       "    </tr>\n",
       "    <tr>\n",
       "      <th>15334</th>\n",
       "      <td>15335</td>\n",
       "      <td>153901356</td>\n",
       "      <td>False</td>\n",
       "      <td>infocasa consulting</td>\n",
       "      <td>911360461.0</td>\n",
       "      <td>https://www.fotocasa.es/es/comprar/vivienda/ma...</td>\n",
       "      <td>3.0</td>\n",
       "      <td>2.0</td>\n",
       "      <td>152.0</td>\n",
       "      <td>765000</td>\n",
       "      <td>2019-12-17T18:17:00Z</td>\n",
       "      <td>INFOCASA vende este bonito piso reformado con ...</td>\n",
       "      <td>Paseo de la Castellana,  Madrid Capital</td>\n",
       "      <td>España</td>\n",
       "      <td>Madrid</td>\n",
       "      <td>Madrid</td>\n",
       "      <td>Madrid, Zona de</td>\n",
       "      <td>NaN</td>\n",
       "      <td>Madrid Capital</td>\n",
       "      <td>NaN</td>\n",
       "      <td>Tetuán</td>\n",
       "      <td>Castillejos - Cuzco</td>\n",
       "      <td>Castillejos - Cuzco</td>\n",
       "      <td>0</td>\n",
       "      <td>0</td>\n",
       "      <td>0</td>\n",
       "      <td>0</td>\n",
       "      <td>0</td>\n",
       "      <td>0</td>\n",
       "      <td>0</td>\n",
       "      <td>0</td>\n",
       "      <td>0</td>\n",
       "      <td>0</td>\n",
       "      <td>40,45773</td>\n",
       "      <td>-3,69068</td>\n",
       "      <td>NaN</td>\n",
       "      <td>NaN</td>\n",
       "    </tr>\n",
       "  </tbody>\n",
       "</table>\n",
       "<p>15335 rows × 37 columns</p>\n",
       "</div>"
      ],
      "text/plain": [
       "       Unnamed: 0  id_realEstates  isNew                    realEstate_name  \\\n",
       "0               1       153771986  False            ferrari 57 inmobiliaria   \n",
       "1               2       153867863  False  tecnocasa fuenlabrada ferrocarril   \n",
       "2               3       153430440  False                 look find boadilla   \n",
       "3               4       152776331  False  tecnocasa fuenlabrada ferrocarril   \n",
       "4               5       153180188  False            ferrari 57 inmobiliaria   \n",
       "...           ...             ...    ...                                ...   \n",
       "15330       15331       153901377  False                infocasa consulting   \n",
       "15331       15332       150394373  False                inmobiliaria pulpon   \n",
       "15332       15333       153901397  False             tecnocasa torrelodones   \n",
       "15333       15334       152607440  False                inmobiliaria pulpon   \n",
       "15334       15335       153901356  False                infocasa consulting   \n",
       "\n",
       "       phone_realEstate                                       url_inmueble  \\\n",
       "0           912177526.0  https://www.fotocasa.es/es/comprar/vivienda/ma...   \n",
       "1           916358736.0  https://www.fotocasa.es/es/comprar/vivienda/ma...   \n",
       "2           916350408.0  https://www.fotocasa.es/es/comprar/vivienda/ma...   \n",
       "3           916358736.0  https://www.fotocasa.es/es/comprar/vivienda/ma...   \n",
       "4           912177526.0  https://www.fotocasa.es/es/comprar/vivienda/ma...   \n",
       "...                 ...                                                ...   \n",
       "15330       911360461.0  https://www.fotocasa.es/es/comprar/vivienda/ma...   \n",
       "15331       912788039.0  https://www.fotocasa.es/es/comprar/vivienda/ma...   \n",
       "15332       912780348.0  https://www.fotocasa.es/es/comprar/vivienda/ma...   \n",
       "15333       912788039.0  https://www.fotocasa.es/es/comprar/vivienda/ma...   \n",
       "15334       911360461.0  https://www.fotocasa.es/es/comprar/vivienda/ma...   \n",
       "\n",
       "       rooms  bathrooms  surface   price                          date  \\\n",
       "0        3.0        2.0    103.0  195000  2019-12-28T18:27:15.9975027Z   \n",
       "1        3.0        1.0      NaN   89000  2019-12-28T18:27:15.9975027Z   \n",
       "2        2.0        2.0     99.0  390000  2019-12-28T18:27:15.9975027Z   \n",
       "3        3.0        1.0     86.0   89000  2019-12-28T18:27:15.9975027Z   \n",
       "4        2.0        2.0    106.0  172000  2019-12-28T18:27:15.9975027Z   \n",
       "...      ...        ...      ...     ...                           ...   \n",
       "15330    2.0        1.0     96.0  259470          2019-12-17T18:19:00Z   \n",
       "15331    3.0        1.0    150.0  165000          2019-12-17T18:19:00Z   \n",
       "15332    4.0        2.0    175.0  495000          2019-12-17T18:19:00Z   \n",
       "15333    3.0        2.0    101.0  195000          2019-12-17T18:18:00Z   \n",
       "15334    3.0        2.0    152.0  765000          2019-12-17T18:17:00Z   \n",
       "\n",
       "                                             description  \\\n",
       "0      Ponemos a la venta piso de 3 dormitorios con t...   \n",
       "1      \"\"Agencia inmobiliaria de FUENLABRADA - zona F...   \n",
       "2      Lookandfind Boadilla, vende en exclusiva, piso...   \n",
       "3      Agencia inmobiliaria de FUENLABRADA - zona Fue...   \n",
       "4      PISOS DE OBRA NUEVA DE 2 Y 3 DORMITORIOS. OBRA...   \n",
       "...                                                  ...   \n",
       "15330  ¡¡¡IDEAL PROFESIONALES E INVERSORES¡¡¡ \\nINFOC...   \n",
       "15331  Planta baja con cocinas, una de ellos posibili...   \n",
       "15332                                                NaN   \n",
       "15333  Piso de 3 dormitorios con armarios empotrados,...   \n",
       "15334  INFOCASA vende este bonito piso reformado con ...   \n",
       "\n",
       "                                                 address country  level1  \\\n",
       "0      Calle Presidente Felipe Gonzalez, Arganda del Rey  España  Madrid   \n",
       "1                       Calle Polvoranca, 6, Fuenlabrada  España  Madrid   \n",
       "2              Calle Reyes Católicos, Boadilla del Monte  España  Madrid   \n",
       "3                         Barrio San Andres, Fuenlabrada  España  Madrid   \n",
       "4                                        Arganda del Rey  España  Madrid   \n",
       "...                                                  ...     ...     ...   \n",
       "15330                                     Madrid Capital  España  Madrid   \n",
       "15331                             Velilla de San Antonio  España  Madrid   \n",
       "15332                                       Torrelodones  España  Madrid   \n",
       "15333                             Velilla de San Antonio  España  Madrid   \n",
       "15334            Paseo de la Castellana,  Madrid Capital  España  Madrid   \n",
       "\n",
       "       level2                          level3  \\\n",
       "0      Madrid  Madrid Sureste - Cuenca Tajuña   \n",
       "1      Madrid              Zona Sur de Madrid   \n",
       "2      Madrid                   Zona Noroeste   \n",
       "3      Madrid              Zona Sur de Madrid   \n",
       "4      Madrid  Madrid Sureste - Cuenca Tajuña   \n",
       "...       ...                             ...   \n",
       "15330  Madrid                 Madrid, Zona de   \n",
       "15331  Madrid  Madrid Sureste - Cuenca Tajuña   \n",
       "15332  Madrid                   Zona Noroeste   \n",
       "15333  Madrid  Madrid Sureste - Cuenca Tajuña   \n",
       "15334  Madrid                 Madrid, Zona de   \n",
       "\n",
       "                                level4                  level5 level6  \\\n",
       "0             Arganda del Rey, Zona de         Arganda del Rey    NaN   \n",
       "1                 Fuenlabrada, Zona de             Fuenlabrada    NaN   \n",
       "2          Boadilla del Monte, Zona de      Boadilla del Monte    NaN   \n",
       "3                 Fuenlabrada, Zona de             Fuenlabrada    NaN   \n",
       "4             Arganda del Rey, Zona de         Arganda del Rey    NaN   \n",
       "...                                ...                     ...    ...   \n",
       "15330                              NaN          Madrid Capital    NaN   \n",
       "15331  Velilla de San Antonio, Zona de  Velilla de San Antonio    NaN   \n",
       "15332            Torrelodones, Zona de            Torrelodones    NaN   \n",
       "15333  Velilla de San Antonio, Zona de  Velilla de San Antonio    NaN   \n",
       "15334                              NaN          Madrid Capital    NaN   \n",
       "\n",
       "              level7               level8              upperLevel  countryId  \\\n",
       "0            Perlita                  NaN                 Perlita          0   \n",
       "1             Centro                  NaN                  Centro          0   \n",
       "2           Sector B                  NaN                Sector B          0   \n",
       "3             Centro                  NaN                  Centro          0   \n",
       "4             Centro                  NaN                  Centro          0   \n",
       "...              ...                  ...                     ...        ...   \n",
       "15330         Tetuán           Berruguete              Berruguete          0   \n",
       "15331            NaN                  NaN  Velilla de San Antonio          0   \n",
       "15332  Casco Antiguo                  NaN           Casco Antiguo          0   \n",
       "15333            NaN                  NaN  Velilla de San Antonio          0   \n",
       "15334         Tetuán  Castillejos - Cuzco     Castillejos - Cuzco          0   \n",
       "\n",
       "       level1Id  level2Id  level3Id  level4Id  level5Id  level6Id  level7Id  \\\n",
       "0             0         0         0         0         0         0         0   \n",
       "1             0         0         0         0         0         0         0   \n",
       "2             0         0         0         0         0         0         0   \n",
       "3             0         0         0         0         0         0         0   \n",
       "4             0         0         0         0         0         0         0   \n",
       "...         ...       ...       ...       ...       ...       ...       ...   \n",
       "15330         0         0         0         0         0         0         0   \n",
       "15331         0         0         0         0         0         0         0   \n",
       "15332         0         0         0         0         0         0         0   \n",
       "15333         0         0         0         0         0         0         0   \n",
       "15334         0         0         0         0         0         0         0   \n",
       "\n",
       "       level8Id  accuracy          latitude          longitude  zipCode  \\\n",
       "0             0         0  40,2948276786438  -3,44402412135624      NaN   \n",
       "1             0         1          40,28674           -3,79351      NaN   \n",
       "2             0         0  40,4115646786438  -3,90662252135624      NaN   \n",
       "3             0         0  40,2853785786438  -3,79508142135624      NaN   \n",
       "4             0         0  40,2998774864376  -3,45226301356237      NaN   \n",
       "...         ...       ...               ...                ...      ...   \n",
       "15330         0         0          40,45416           -3,70286      NaN   \n",
       "15331         0         0          40,36652           -3,48951      NaN   \n",
       "15332         0         0          40,57444           -3,92124      NaN   \n",
       "15333         0         0          40,36967           -3,48105      NaN   \n",
       "15334         0         0          40,45773           -3,69068      NaN   \n",
       "\n",
       "       customZone  \n",
       "0             NaN  \n",
       "1             NaN  \n",
       "2             NaN  \n",
       "3             NaN  \n",
       "4             NaN  \n",
       "...           ...  \n",
       "15330         NaN  \n",
       "15331         NaN  \n",
       "15332         NaN  \n",
       "15333         NaN  \n",
       "15334         NaN  \n",
       "\n",
       "[15335 rows x 37 columns]"
      ]
     },
     "execution_count": 3,
     "metadata": {},
     "output_type": "execute_result"
    }
   ],
   "source": [
    "import pandas as pd\n",
    "# this CSV file contains semicolons instead of comas as separator\n",
    "ds = pd.read_csv('assets/real_estate.csv', sep=';')\n",
    "pd.set_option('display.max_columns', None)\n",
    "ds"
   ]
  },
  {
   "attachments": {},
   "cell_type": "markdown",
   "id": "40631cd6",
   "metadata": {},
   "source": [
    "#### What is the most expensive home in the dataset? (★☆☆)"
   ]
  },
  {
   "cell_type": "code",
   "execution_count": 12,
   "id": "8a758bcf",
   "metadata": {},
   "outputs": [
    {
     "name": "stdout",
     "output_type": "stream",
     "text": [
      "8500000\n"
     ]
    }
   ],
   "source": [
    "most_expensive = ds['price'].max()\n",
    "print (most_expensive)"
   ]
  },
  {
   "attachments": {},
   "cell_type": "markdown",
   "id": "0a708990",
   "metadata": {},
   "source": [
    "#### What is cheapest home in the dataset? (★☆☆)"
   ]
  },
  {
   "cell_type": "code",
   "execution_count": 13,
   "id": "477e01f4",
   "metadata": {},
   "outputs": [
    {
     "name": "stdout",
     "output_type": "stream",
     "text": [
      "0\n"
     ]
    }
   ],
   "source": [
    "most_low = ds['price'].min()\n",
    "print(most_low)"
   ]
  },
  {
   "attachments": {},
   "cell_type": "markdown",
   "id": "0b16cd77",
   "metadata": {},
   "source": [
    "#### What is the biggest and the smallest home in the dataset? (★☆☆)"
   ]
  },
  {
   "cell_type": "code",
   "execution_count": 14,
   "id": "4d9b5975",
   "metadata": {},
   "outputs": [
    {
     "name": "stdout",
     "output_type": "stream",
     "text": [
      "249000.0\n"
     ]
    }
   ],
   "source": [
    "surface_max = ds['surface'].max()\n",
    "print(surface_max)"
   ]
  },
  {
   "attachments": {},
   "cell_type": "markdown",
   "id": "782d4c77",
   "metadata": {},
   "source": [
    "#### How many populations (level5) the dataset contains? (★☆☆)"
   ]
  },
  {
   "cell_type": "code",
   "execution_count": 15,
   "id": "5dbe1a08",
   "metadata": {},
   "outputs": [
    {
     "name": "stdout",
     "output_type": "stream",
     "text": [
      "15.0\n"
     ]
    }
   ],
   "source": [
    "surface_min = ds['surface'].min()\n",
    "print(surface_min)"
   ]
  },
  {
   "attachments": {},
   "cell_type": "markdown",
   "id": "48d48f01",
   "metadata": {},
   "source": [
    "#### Does the dataset contain NAs? (★☆☆)\n"
   ]
  },
  {
   "cell_type": "code",
   "execution_count": 16,
   "id": "3ed233e7",
   "metadata": {},
   "outputs": [
    {
     "name": "stdout",
     "output_type": "stream",
     "text": [
      "Unnamed: 0              0\n",
      "id_realEstates          0\n",
      "isNew                   0\n",
      "realEstate_name        10\n",
      "phone_realEstate      794\n",
      "url_inmueble            0\n",
      "rooms                 353\n",
      "bathrooms             345\n",
      "surface              1250\n",
      "price                   0\n",
      "date                    0\n",
      "description           142\n",
      "address                 0\n",
      "country                 0\n",
      "level1                  0\n",
      "level2                  0\n",
      "level3                  0\n",
      "level4               6643\n",
      "level5                  0\n",
      "level6              14627\n",
      "level7               2277\n",
      "level8               8579\n",
      "upperLevel              0\n",
      "countryId               0\n",
      "level1Id                0\n",
      "level2Id                0\n",
      "level3Id                0\n",
      "level4Id                0\n",
      "level5Id                0\n",
      "level6Id                0\n",
      "level7Id                0\n",
      "level8Id                0\n",
      "accuracy                0\n",
      "latitude                0\n",
      "longitude               0\n",
      "zipCode             15335\n",
      "customZone          15335\n",
      "dtype: int64\n"
     ]
    }
   ],
   "source": [
    "nulls = ds.isnull().sum()\n",
    "print(nulls)\n",
    "\n"
   ]
  },
  {
   "attachments": {},
   "cell_type": "markdown",
   "id": "4fa39382",
   "metadata": {},
   "source": [
    "#### Delete the NAs of the dataset, if applicable (★★☆)"
   ]
  },
  {
   "cell_type": "code",
   "execution_count": 17,
   "id": "c97757ec",
   "metadata": {},
   "outputs": [],
   "source": [
    "ds_notnull = ds.dropna(axis=0, how='all')\n"
   ]
  },
  {
   "attachments": {},
   "cell_type": "markdown",
   "id": "0e5f76de",
   "metadata": {},
   "source": [
    "#### What is the mean of prices in the population (level5) of \"Arroyomolinos (Madrid)\"? (★★☆)"
   ]
  },
  {
   "cell_type": "code",
   "execution_count": 18,
   "id": "327f7adb",
   "metadata": {},
   "outputs": [
    {
     "name": "stdout",
     "output_type": "stream",
     "text": [
      "294541.59854014596\n"
     ]
    }
   ],
   "source": [
    "mean_arroyomolinos = ds[ds['level5'] == 'Arroyomolinos (Madrid)']\n",
    "mean_price = mean_arroyomolinos['price'].mean()\n",
    "print(mean_price)"
   ]
  },
  {
   "attachments": {},
   "cell_type": "markdown",
   "id": "89b548e3",
   "metadata": {},
   "source": [
    "#### Plot the histogram of prices for the population (level5) of \"Arroyomolinos (Madrid)\" and explain what you observe (★★☆)"
   ]
  },
  {
   "cell_type": "code",
   "execution_count": 19,
   "id": "2ba51bf7",
   "metadata": {},
   "outputs": [
    {
     "data": {
      "image/png": "[encoded data removed]",
      "text/plain": [
       "<Figure size 640x480 with 1 Axes>"
      ]
     },
     "metadata": {},
     "output_type": "display_data"
    }
   ],
   "source": [
    "import matplotlib.pyplot as plt\n",
    "\n",
    "# Plot the histogram\n",
    "plt.hist(mean_arroyomolinos['price'], bins=20, edgecolor='black')\n",
    "plt.xlabel('Precio')\n",
    "plt.ylabel('Freciencia')\n",
    "plt.title('Histograma de Arroyomolinos (Madrid)')\n",
    "plt.show()"
   ]
  },
  {
   "cell_type": "markdown",
   "id": "995854d5",
   "metadata": {},
   "source": [
    "-- Hay una concentración de precios entre los 160.000 y los 400.000.- Se observa aún data sucia (valores en el rango de 0 pesos)"
   ]
  },
  {
   "attachments": {},
   "cell_type": "markdown",
   "id": "c86dc493",
   "metadata": {},
   "source": [
    "#### Now let's work with the \"south belt\" of madrid. Make a subsetting that contains the following populations (level5): \"Fuenlabrada\",\"Leganés\",\"Getafe\",\"Alcorcón\" (★★☆) "
   ]
  },
  {
   "cell_type": "code",
   "execution_count": 20,
   "id": "5280d0cb",
   "metadata": {},
   "outputs": [
    {
     "name": "stdout",
     "output_type": "stream",
     "text": [
      "       Unnamed: 0  id_realEstates  isNew  \\\n",
      "1               2       153867863  False   \n",
      "3               4       152776331  False   \n",
      "94             95       153995577  False   \n",
      "161           162       153440116  False   \n",
      "169           170       153920011  False   \n",
      "...           ...             ...    ...   \n",
      "15275       15276       153903887  False   \n",
      "15291       15292       151697757  False   \n",
      "15305       15306       153902389  False   \n",
      "15322       15323       153871864  False   \n",
      "15325       15326       153901467  False   \n",
      "\n",
      "                                 realEstate_name  phone_realEstate  \\\n",
      "1              tecnocasa fuenlabrada ferrocarril       916358736.0   \n",
      "3              tecnocasa fuenlabrada ferrocarril       916358736.0   \n",
      "94                               viviendas365com       911226014.0   \n",
      "161                                    prolucisa       916350416.0   \n",
      "169                                 grupo tizona       911226046.0   \n",
      "...                                          ...               ...   \n",
      "15275  aliseda servicios de gestion inmobiliaria       911368198.0   \n",
      "15291                                    unipiso       912788631.0   \n",
      "15305                             jadein ferrero       914871639.0   \n",
      "15322                          gestion comercial       911220662.0   \n",
      "15325                              montehogar 68       911790675.0   \n",
      "\n",
      "                                            url_inmueble  rooms  bathrooms  \\\n",
      "1      https://www.fotocasa.es/es/comprar/vivienda/ma...    3.0        1.0   \n",
      "3      https://www.fotocasa.es/es/comprar/vivienda/ma...    3.0        1.0   \n",
      "94     https://www.fotocasa.es/es/comprar/vivienda/le...    3.0        2.0   \n",
      "161    https://www.fotocasa.es/es/comprar/vivienda/ma...    3.0        2.0   \n",
      "169    https://www.fotocasa.es/es/comprar/vivienda/ma...    6.0        2.0   \n",
      "...                                                  ...    ...        ...   \n",
      "15275  https://www.fotocasa.es/es/comprar/vivienda/al...    3.0        1.0   \n",
      "15291  https://www.fotocasa.es/es/comprar/vivienda/al...    3.0        2.0   \n",
      "15305  https://www.fotocasa.es/es/comprar/vivienda/ma...    3.0        2.0   \n",
      "15322  https://www.fotocasa.es/es/comprar/vivienda/ma...    3.0        1.0   \n",
      "15325  https://www.fotocasa.es/es/comprar/vivienda/ma...    2.0        2.0   \n",
      "\n",
      "       surface   price                          date  \\\n",
      "1          NaN   89000  2019-12-28T18:27:15.9975027Z   \n",
      "3         86.0   89000  2019-12-28T18:27:15.9975027Z   \n",
      "94       120.0  320000   2019-12-28T18:30:53.960102Z   \n",
      "161      123.0  239500  2019-12-28T18:36:34.2072664Z   \n",
      "169      195.0  290000  2019-12-28T18:36:34.2072664Z   \n",
      "...        ...     ...                           ...   \n",
      "15275     78.0  138000          2019-12-17T19:02:00Z   \n",
      "15291    110.0  279000          2019-12-17T18:57:00Z   \n",
      "15305     85.0  170000          2019-12-17T18:43:00Z   \n",
      "15322     91.0  112000          2019-12-17T18:25:00Z   \n",
      "15325     99.0  215000          2019-12-17T18:24:00Z   \n",
      "\n",
      "                                             description  \\\n",
      "1      \"\"Agencia inmobiliaria de FUENLABRADA - zona F...   \n",
      "3      Agencia inmobiliaria de FUENLABRADA - zona Fue...   \n",
      "94     VIVIENDAS365-VENDE- Hermosa Vivienda en el Bar...   \n",
      "161    Piso amplisimo, impecable, en perfecto estado ...   \n",
      "169    Grupo Tizona Getafe, vende una fantástica casa...   \n",
      "...                                                  ...   \n",
      "15275  Piso en Fuenlabrada, Madrid. Dispone de una su...   \n",
      "15291  QUIERES VIVIR EN PLENO CENTRO,  a tan sólo 2 m...   \n",
      "15305  JADEIN FERRERO S.L vende excelente vivienda en...   \n",
      "15322  ´´´´´´´´´´´´´´´´´´´´´´´´´´´´´´´´´´´´´´´´´´´´SI...   \n",
      "15325  Extupendo ATICO  y magnificas viviendas muy am...   \n",
      "\n",
      "                                                 address country  level1  \\\n",
      "1                       Calle Polvoranca, 6, Fuenlabrada  España  Madrid   \n",
      "3                         Barrio San Andres, Fuenlabrada  España  Madrid   \n",
      "94                            Avenida Los Pinos, Leganés  España  Madrid   \n",
      "161                                          Fuenlabrada  España  Madrid   \n",
      "169                       Calle General Castaños, Getafe  España  Madrid   \n",
      "...                                                  ...     ...     ...   \n",
      "15275  Urbanización Urbanización Parque Miraflores, 5...  España  Madrid   \n",
      "15291                                            Leganés  España  Madrid   \n",
      "15305                                        Fuenlabrada  España  Madrid   \n",
      "15322            Calle Dr. Miguel de Aguado, Fuenlabrada  España  Madrid   \n",
      "15325           Calle de Luis Sauquillo, 77, Fuenlabrada  España  Madrid   \n",
      "\n",
      "       level2              level3                level4       level5 level6  \\\n",
      "1      Madrid  Zona Sur de Madrid  Fuenlabrada, Zona de  Fuenlabrada    NaN   \n",
      "3      Madrid  Zona Sur de Madrid  Fuenlabrada, Zona de  Fuenlabrada    NaN   \n",
      "94     Madrid  Zona Sur de Madrid      Leganés, Zona de      Leganés    NaN   \n",
      "161    Madrid  Zona Sur de Madrid  Fuenlabrada, Zona de  Fuenlabrada    NaN   \n",
      "169    Madrid  Zona Sur de Madrid       Getafe, Zona de       Getafe    NaN   \n",
      "...       ...                 ...                   ...          ...    ...   \n",
      "15275  Madrid  Zona Sur de Madrid  Fuenlabrada, Zona de  Fuenlabrada    NaN   \n",
      "15291  Madrid  Zona Sur de Madrid      Leganés, Zona de      Leganés    NaN   \n",
      "15305  Madrid  Zona Sur de Madrid  Fuenlabrada, Zona de  Fuenlabrada    NaN   \n",
      "15322  Madrid  Zona Sur de Madrid  Fuenlabrada, Zona de  Fuenlabrada    NaN   \n",
      "15325  Madrid  Zona Sur de Madrid  Fuenlabrada, Zona de  Fuenlabrada    NaN   \n",
      "\n",
      "                                          level7 level8  \\\n",
      "1                                         Centro    NaN   \n",
      "3                                         Centro    NaN   \n",
      "94     Valdepelayo - Montepinos - Arroyo Culebro    NaN   \n",
      "161                        El Arroyo - La Fuente    NaN   \n",
      "169                                       Centro    NaN   \n",
      "...                                          ...    ...   \n",
      "15275                                    Loranca    NaN   \n",
      "15291                          Centro de Leganés    NaN   \n",
      "15305                 Fuenlabrada II - El Molino    NaN   \n",
      "15322                                     Centro    NaN   \n",
      "15325                      El Arroyo - La Fuente    NaN   \n",
      "\n",
      "                                      upperLevel  countryId  level1Id  \\\n",
      "1                                         Centro          0         0   \n",
      "3                                         Centro          0         0   \n",
      "94     Valdepelayo - Montepinos - Arroyo Culebro          0         0   \n",
      "161                        El Arroyo - La Fuente          0         0   \n",
      "169                                       Centro          0         0   \n",
      "...                                          ...        ...       ...   \n",
      "15275                                    Loranca          0         0   \n",
      "15291                          Centro de Leganés          0         0   \n",
      "15305                 Fuenlabrada II - El Molino          0         0   \n",
      "15322                                     Centro          0         0   \n",
      "15325                      El Arroyo - La Fuente          0         0   \n",
      "\n",
      "       level2Id  level3Id  level4Id  level5Id  level6Id  level7Id  level8Id  \\\n",
      "1             0         0         0         0         0         0         0   \n",
      "3             0         0         0         0         0         0         0   \n",
      "94            0         0         0         0         0         0         0   \n",
      "161           0         0         0         0         0         0         0   \n",
      "169           0         0         0         0         0         0         0   \n",
      "...         ...       ...       ...       ...       ...       ...       ...   \n",
      "15275         0         0         0         0         0         0         0   \n",
      "15291         0         0         0         0         0         0         0   \n",
      "15305         0         0         0         0         0         0         0   \n",
      "15322         0         0         0         0         0         0         0   \n",
      "15325         0         0         0         0         0         0         0   \n",
      "\n",
      "       accuracy          latitude          longitude  zipCode  customZone  \n",
      "1             1          40,28674           -3,79351      NaN         NaN  \n",
      "3             0  40,2853785786438  -3,79508142135624      NaN         NaN  \n",
      "94            0          40,31933           -3,77574      NaN         NaN  \n",
      "161           0  40,2744807718156  -3,79192471504211      NaN         NaN  \n",
      "169           0          40,31111           -3,73066      NaN         NaN  \n",
      "...         ...               ...                ...      ...         ...  \n",
      "15275         1          40,31381           -3,83733      NaN         NaN  \n",
      "15291         0        40,3259051           -3,76318      NaN         NaN  \n",
      "15305         0        40,2882193         -3,8098617      NaN         NaN  \n",
      "15322         0          40,28282           -3,78892      NaN         NaN  \n",
      "15325         1          40,28062           -3,79869      NaN         NaN  \n",
      "\n",
      "[854 rows x 37 columns]\n"
     ]
    }
   ],
   "source": [
    "mean_south_belt = ds[ds['level5'].isin(['Arroyomolinos (Madrid)','Fuenlabrada','Leganés','Getafe','Alarcón'])]\n",
    "print(mean_south_belt)"
   ]
  },
  {
   "cell_type": "code",
   "execution_count": 21,
   "id": "647ccc27",
   "metadata": {},
   "outputs": [
    {
     "name": "stdout",
     "output_type": "stream",
     "text": [
      "<class 'pandas.core.frame.DataFrame'>\n",
      "Int64Index: 854 entries, 1 to 15325\n",
      "Data columns (total 37 columns):\n",
      " #   Column            Non-Null Count  Dtype  \n",
      "---  ------            --------------  -----  \n",
      " 0   Unnamed: 0        854 non-null    int64  \n",
      " 1   id_realEstates    854 non-null    int64  \n",
      " 2   isNew             854 non-null    bool   \n",
      " 3   realEstate_name   854 non-null    object \n",
      " 4   phone_realEstate  810 non-null    float64\n",
      " 5   url_inmueble      854 non-null    object \n",
      " 6   rooms             850 non-null    float64\n",
      " 7   bathrooms         845 non-null    float64\n",
      " 8   surface           732 non-null    float64\n",
      " 9   price             854 non-null    int64  \n",
      " 10  date              854 non-null    object \n",
      " 11  description       850 non-null    object \n",
      " 12  address           854 non-null    object \n",
      " 13  country           854 non-null    object \n",
      " 14  level1            854 non-null    object \n",
      " 15  level2            854 non-null    object \n",
      " 16  level3            854 non-null    object \n",
      " 17  level4            854 non-null    object \n",
      " 18  level5            854 non-null    object \n",
      " 19  level6            0 non-null      object \n",
      " 20  level7            854 non-null    object \n",
      " 21  level8            0 non-null      object \n",
      " 22  upperLevel        854 non-null    object \n",
      " 23  countryId         854 non-null    int64  \n",
      " 24  level1Id          854 non-null    int64  \n",
      " 25  level2Id          854 non-null    int64  \n",
      " 26  level3Id          854 non-null    int64  \n",
      " 27  level4Id          854 non-null    int64  \n",
      " 28  level5Id          854 non-null    int64  \n",
      " 29  level6Id          854 non-null    int64  \n",
      " 30  level7Id          854 non-null    int64  \n",
      " 31  level8Id          854 non-null    int64  \n",
      " 32  accuracy          854 non-null    int64  \n",
      " 33  latitude          854 non-null    object \n",
      " 34  longitude         854 non-null    object \n",
      " 35  zipCode           0 non-null      float64\n",
      " 36  customZone        0 non-null      float64\n",
      "dtypes: bool(1), float64(6), int64(13), object(17)\n",
      "memory usage: 247.7+ KB\n"
     ]
    }
   ],
   "source": [
    "mean_south_belt.info()\n"
   ]
  },
  {
   "attachments": {},
   "cell_type": "markdown",
   "id": "090a6a3e",
   "metadata": {},
   "source": [
    "#### Make a bar plot of the median of prices (★★★) "
   ]
  },
  {
   "cell_type": "code",
   "execution_count": 22,
   "id": "68aec11c",
   "metadata": {},
   "outputs": [
    {
     "data": {
      "image/png": "[encoded data removed]",
      "text/plain": [
       "<Figure size 640x480 with 1 Axes>"
      ]
     },
     "metadata": {},
     "output_type": "display_data"
    }
   ],
   "source": [
    "plt.hist(mean_south_belt['price'], bins=20, edgecolor='black')\n",
    "plt.xlabel('Precio')\n",
    "plt.ylabel('Frecuencia')\n",
    "plt.title('Histograma de South Belt')\n",
    "plt.show()"
   ]
  },
  {
   "attachments": {},
   "cell_type": "markdown",
   "id": "18f67373",
   "metadata": {},
   "source": [
    "#### Calculate the sample mean and variance of the variables: price, rooms, surface area and bathrooms (★★★) "
   ]
  },
  {
   "cell_type": "code",
   "execution_count": 23,
   "id": "e896e444",
   "metadata": {},
   "outputs": [
    {
     "name": "stdout",
     "output_type": "stream",
     "text": [
      "Mean of rooms: 3.1611764705882353\n",
      "Variance of rooms: 0.7855345389039022\n",
      "Mean of bathrooms: 1.8094674556213017\n",
      "Variance of bathrooms: 0.7563083653495546\n",
      "Mean of surface: 220.0587431693989\n",
      "Variance of surface: 6053961.3905253615\n",
      "Mean of price: 233003.97306791568\n",
      "Variance of price: 14155530024.40141\n"
     ]
    }
   ],
   "source": [
    "# Calculate the mean of the variables\n",
    "mean_rooms = mean_south_belt['rooms'].mean()\n",
    "mean_bathrooms = mean_south_belt['bathrooms'].mean()\n",
    "mean_surface = mean_south_belt['surface'].mean()\n",
    "mean_price = mean_south_belt['price'].mean()\n",
    "\n",
    "# Calculate the variance of the variables\n",
    "variance_rooms = mean_south_belt['rooms'].var()\n",
    "variance_bathrooms = mean_south_belt['bathrooms'].var()\n",
    "variance_surface = mean_south_belt['surface'].var()\n",
    "variance_price = mean_south_belt['price'].var()\n",
    "\n",
    "# Results\n",
    "print(\"Mean of rooms:\", mean_rooms)\n",
    "print(\"Variance of rooms:\", variance_rooms)\n",
    "print(\"Mean of bathrooms:\", mean_bathrooms)\n",
    "print(\"Variance of bathrooms:\", variance_bathrooms)\n",
    "print(\"Mean of surface:\", mean_surface)\n",
    "print(\"Variance of surface:\", variance_surface)\n",
    "print(\"Mean of price:\", mean_price)\n",
    "print(\"Variance of price:\", variance_price)"
   ]
  },
  {
   "attachments": {},
   "cell_type": "markdown",
   "id": "95cfde61",
   "metadata": {},
   "source": [
    "#### What is the most expensive home of each population? (★★☆) "
   ]
  },
  {
   "cell_type": "code",
   "execution_count": 24,
   "id": "1c29f78c",
   "metadata": {},
   "outputs": [
    {
     "name": "stdout",
     "output_type": "stream",
     "text": [
      "level5\n",
      "Arroyomolinos (Madrid)     580000\n",
      "Fuenlabrada                490000\n",
      "Getafe                    1050000\n",
      "Leganés                    650000\n",
      "Name: price, dtype: int64\n"
     ]
    }
   ],
   "source": [
    "max_price_by_population = mean_south_belt.groupby('level5')['price'].max()\n",
    "\n",
    "print(max_price_by_population)"
   ]
  },
  {
   "attachments": {},
   "cell_type": "markdown",
   "id": "ea67579b",
   "metadata": {},
   "source": [
    "#### Normalize the variable of prices for each population and plot the 4 histograms in the same plot (★★★) "
   ]
  },
  {
   "cell_type": "code",
   "execution_count": 25,
   "id": "385ad99c",
   "metadata": {},
   "outputs": [
    {
     "name": "stderr",
     "output_type": "stream",
     "text": [
      "/var/folders/p_/j66rwsvn4xn8xvmw4q9bvx_w0000gn/T/ipykernel_13143/3454310340.py:4: FutureWarning: Not prepending group keys to the result index of transform-like apply. In the future, the group keys will be included in the index, regardless of whether the applied function returns a like-indexed object.\n",
      "To preserve the previous behavior, use\n",
      "\n",
      "\t>>> .groupby(..., group_keys=False)\n",
      "\n",
      "To adopt the future behavior and silence this warning, use \n",
      "\n",
      "\t>>> .groupby(..., group_keys=True)\n",
      "  df['normalized_price'] = df.groupby('level5')['price'].apply(lambda x: (x - x.min()) / (x.max() - x.min()))\n",
      "/var/folders/p_/j66rwsvn4xn8xvmw4q9bvx_w0000gn/T/ipykernel_13143/3454310340.py:4: SettingWithCopyWarning: \n",
      "A value is trying to be set on a copy of a slice from a DataFrame.\n",
      "Try using .loc[row_indexer,col_indexer] = value instead\n",
      "\n",
      "See the caveats in the documentation: https://pandas.pydata.org/pandas-docs/stable/user_guide/indexing.html#returning-a-view-versus-a-copy\n",
      "  df['normalized_price'] = df.groupby('level5')['price'].apply(lambda x: (x - x.min()) / (x.max() - x.min()))\n"
     ]
    }
   ],
   "source": [
    "df = mean_south_belt\n",
    "\n",
    "# Create a new DataFrame with normalized prices\n",
    "df['normalized_price'] = df.groupby('level5')['price'].apply(lambda x: (x - x.min()) / (x.max() - x.min()))\n"
   ]
  },
  {
   "cell_type": "code",
   "execution_count": 26,
   "id": "d047de71",
   "metadata": {},
   "outputs": [
    {
     "data": {
      "image/png": "[encoded data removed]",
      "text/plain": [
       "<Figure size 1000x600 with 1 Axes>"
      ]
     },
     "metadata": {},
     "output_type": "display_data"
    }
   ],
   "source": [
    "import matplotlib.pyplot as plt\n",
    "\n",
    "# Plot histograms for each population\n",
    "plt.figure(figsize=(10, 6))\n",
    "\n",
    "for population, data in df.groupby('level5'):\n",
    "    plt.hist(data['normalized_price'], bins=30, alpha=0.5, label=population)\n",
    "\n",
    "plt.xlabel('Normalized Price')\n",
    "plt.ylabel('Frequency')\n",
    "plt.title('Normalized Prices Histogram for Different Populations')\n",
    "plt.legend()\n",
    "plt.show()"
   ]
  },
  {
   "attachments": {},
   "cell_type": "markdown",
   "id": "2ec1bd5c",
   "metadata": {},
   "source": [
    "#### Make a plot of the coordinates (lat and long) of the south belt of Madrid by color of each population (★★★★) \n",
    "This is a extremely hard exercise and we highly recommend to do it at the end of everything"
   ]
  },
  {
   "cell_type": "code",
   "execution_count": 27,
   "id": "312aac99",
   "metadata": {},
   "outputs": [
    {
     "data": {
      "application/vnd.jupyter.widget-view+json": {
       "model_id": "99378eefb3674d759c7789b7e1ef8a84",
       "version_major": 2,
       "version_minor": 0
      },
      "text/plain": [
       "Map(center=[60, -2.2], controls=(ZoomControl(options=['position', 'zoom_in_text', 'zoom_in_title', 'zoom_out_t…"
      ]
     },
     "execution_count": 27,
     "metadata": {},
     "output_type": "execute_result"
    }
   ],
   "source": [
    "map = Map(center = (60, -2.2), zoom = 2, min_zoom = 1, max_zoom = 20, \n",
    "    basemap=basemaps.Stamen.Terrain)\n",
    "map"
   ]
  },
  {
   "cell_type": "code",
   "execution_count": 28,
   "id": "f7931ec0",
   "metadata": {},
   "outputs": [],
   "source": [
    "categories = df['level5'].unique()\n",
    "num_categories = len(categories)\n",
    "cmap = plt.get_cmap('plasma', num_categories)\n",
    "\n",
    "for _, row in df.iterrows():\n",
    "    latitude = float(row['latitude'].replace(',','.'))\n",
    "    longitude = float(row['longitude'].replace(',','.'))\n",
    "\n",
    "    population_category = row['level5']\n",
    "\n",
    "    category_index = list(categories).index(population_category)\n",
    "\n",
    "    color = colors.rgb2hex(cmap(category_index))\n",
    "    \n",
    "    marker = CircleMarker(location=(latitude, longitude), radius=5, \n",
    "                         color=color, fill_color=color, fill_opacity=0.6)\n",
    "    map.add_layer(marker)"
   ]
  },
  {
   "attachments": {},
   "cell_type": "markdown",
   "id": "b22874b7",
   "metadata": {},
   "source": [
    "#### What can you say about the price per square meter between the towns of Getafe and Alcorcón?"
   ]
  },
  {
   "cell_type": "code",
   "execution_count": 4,
   "id": "e0ef506b",
   "metadata": {},
   "outputs": [
    {
     "data": {
      "image/png": "[encoded data removed]",
      "text/plain": [
       "<Figure size 640x480 with 1 Axes>"
      ]
     },
     "metadata": {},
     "output_type": "display_data"
    },
    {
     "name": "stdout",
     "output_type": "stream",
     "text": [
      "Average price per square meter in Getafe: 2066.314949251463\n",
      "Average price per square meter in Alcorcón: 2239.302480199618\n"
     ]
    }
   ],
   "source": [
    "#Filter data for Getafe and Alcorcón\n",
    "getafe_data = ds[ds['level5'] == 'Getafe']\n",
    "alcorcon_data = ds[ds['level5'] == 'Alcorcón']\n",
    "\n",
    "#Calculate price per square meter\n",
    "getafe_price_per_sqm = getafe_data['price'] / getafe_data['surface']\n",
    "alcorcon_price_per_sqm = alcorcon_data['price'] / alcorcon_data['surface']\n",
    "\n",
    "#Calculate average\n",
    "getafe_avg_price = getafe_price_per_sqm.mean()\n",
    "alcorcon_avg_price = alcorcon_price_per_sqm.mean()\n",
    "\n",
    "#Visualize the data\n",
    "plt.hist(getafe_price_per_sqm, bins=20, alpha=0.5, label='Getafe')\n",
    "plt.hist(alcorcon_price_per_sqm, bins=20, alpha=0.5, label='Alcorcón')\n",
    "plt.xlabel('Price per Square Meter')\n",
    "plt.ylabel('Frequency')\n",
    "plt.title('Price per Square Meter Comparison: Getafe vs Alcorcón')\n",
    "plt.legend()\n",
    "plt.show()\n",
    "\n",
    "#Print average price per square meter\n",
    "print('Average price per square meter in Getafe:', getafe_avg_price)\n",
    "print('Average price per square meter in Alcorcón:', alcorcon_avg_price)"
   ]
  },
  {
   "attachments": {},
   "cell_type": "markdown",
   "id": "a4376b3f",
   "metadata": {},
   "source": [
    "#### Reload the data, is the average of \"Valdemorillo\" and \"Galapagar\" prices the same?"
   ]
  },
  {
   "cell_type": "code",
   "execution_count": 5,
   "id": "37dbaf65",
   "metadata": {},
   "outputs": [
    {
     "name": "stdout",
     "output_type": "stream",
     "text": [
      "The average prices in Valdemorillo and Galapagar are different.\n"
     ]
    }
   ],
   "source": [
    "#Reload the data, is the average of \"Valdemorillo\" and \"Galapagar\" prices the same?\n",
    "#Filter data for Valdemorillo and Galapagar\n",
    "valdemorillo_data = ds[ds['level5'] == 'Valdemorillo']\n",
    "galapagar_data = ds[ds['level5'] == 'Galapagar']\n",
    "\n",
    "#Calculate average prices\n",
    "valdemorillo_avg_prices = valdemorillo_data['price'].mean()\n",
    "galapagar_avg_prices = galapagar_data['price'].mean()\n",
    "\n",
    "#Compare average prices\n",
    "if valdemorillo_avg_prices == galapagar_avg_prices:\n",
    "    print(\"The average prices in Valdemorillo and Galapagar are the same.\")\n",
    "else:\n",
    "    print(\"The average prices in Valdemorillo and Galapagar are different.\")"
   ]
  },
  {
   "attachments": {},
   "cell_type": "markdown",
   "id": "b6af45ec",
   "metadata": {},
   "source": [
    "#### What happens if we do the same analysis for price/m2 (★★☆) "
   ]
  },
  {
   "cell_type": "code",
   "execution_count": 6,
   "id": "8231d73e",
   "metadata": {},
   "outputs": [
    {
     "name": "stdout",
     "output_type": "stream",
     "text": [
      "The average prices in Valdemorillo and Galapagar are different.\n"
     ]
    }
   ],
   "source": [
    "#Calculate price per square meter\n",
    "valdemorillo_price_per_sqm = valdemorillo_data['price'] / valdemorillo_data['surface']\n",
    "galapagar_price_per_sqm = galapagar_data['price'] / galapagar_data['surface']\n",
    "\n",
    "#Calculate average prices\n",
    "valdemorillo_avg_price = valdemorillo_price_per_sqm.mean()\n",
    "galapagar_avg_price = galapagar_price_per_sqm.mean()\n",
    "\n",
    "#Compare average prices\n",
    "if valdemorillo_avg_price == galapagar_avg_price:\n",
    "    print(\"The average prices in Valdemorillo and Galapagar are the same.\")\n",
    "else:\n",
    "    print(\"The average prices in Valdemorillo and Galapagar are different.\")"
   ]
  },
  {
   "attachments": {},
   "cell_type": "markdown",
   "id": "2d40e202",
   "metadata": {},
   "source": [
    "#### Could you say there is a relation between surface and price? (★★☆) \n",
    "Hint: make a scatter plot."
   ]
  },
  {
   "cell_type": "code",
   "execution_count": 8,
   "id": "405462e1",
   "metadata": {},
   "outputs": [
    {
     "name": "stdout",
     "output_type": "stream",
     "text": [
      "I could said that there is a relation between surface and prices,\n",
      "because we can observe on the scattered plot that\n"
     ]
    },
    {
     "data": {
      "image/png": "[encoded data removed]",
      "text/plain": [
       "<Figure size 640x480 with 1 Axes>"
      ]
     },
     "metadata": {},
     "output_type": "display_data"
    }
   ],
   "source": [
    "#Scatter plot\n",
    "ds.plot.scatter(x='surface',y='price')\n",
    "\n",
    "print('I could said that there is a relation between surface and prices,\\nbecause we can observe on the scattered plot that')"
   ]
  },
  {
   "attachments": {},
   "cell_type": "markdown",
   "id": "3275db77",
   "metadata": {},
   "source": [
    "#### Make the same plot for 4 different populations (level5) and rearrange them on the same graph? (★★☆) \n",
    "Hint: make a scatter plot of each population using subplots."
   ]
  },
  {
   "cell_type": "code",
   "execution_count": 9,
   "id": "e08292ff",
   "metadata": {},
   "outputs": [
    {
     "data": {
      "image/png": "[encoded data removed]",
      "text/plain": [
       "<Figure size 640x480 with 1 Axes>"
      ]
     },
     "metadata": {},
     "output_type": "display_data"
    }
   ],
   "source": [
    "#Separate the data of the different populations (\"Fuenlabrada\", \"Leganés\", \"Getafe\", \"Alcorcón\")\n",
    "fuenlabrada_data = ds[ds['level5'] == 'Fuenlabrada']\n",
    "fuenlabrada_surface = fuenlabrada_data['surface']\n",
    "fuenlabrada_price = fuenlabrada_data['price']\n",
    "\n",
    "leganes_data = ds[ds['level5'] == 'Leganés']\n",
    "leganes_surface = fuenlabrada_data['surface']\n",
    "leganes_price = fuenlabrada_data['price']\n",
    "\n",
    "getafe_data = ds[ds['level5'] == 'Leganés']\n",
    "getafe_surface = fuenlabrada_data['surface']\n",
    "getafe_price = fuenlabrada_data['price']\n",
    "\n",
    "alarcon = ds[ds['level5'] == 'Alarcón']\n",
    "alarcon_surface = fuenlabrada_data['surface']\n",
    "alarcon_price = fuenlabrada_data['price']\n",
    "\n",
    "#Make the scatter plot\n",
    "plt.scatter(fuenlabrada_surface, fuenlabrada_price, color='blue', marker='*', label='Fuenlabrada')\n",
    "plt.scatter(leganes_surface, leganes_price, color='red', marker='v', label='Leganés')\n",
    "plt.scatter(getafe_surface, getafe_price, color='green', marker='.', label='Getafe')\n",
    "plt.scatter(alarcon_surface, alarcon_price, color='black', marker='+', label='Getafe')\n",
    "\n",
    "plt.title('Relationship surface vs price in different populations')\n",
    "plt.legend(loc='best')\n",
    "plt.show()"
   ]
  },
  {
   "attachments": {},
   "cell_type": "markdown",
   "id": "522c6bd9",
   "metadata": {},
   "source": [
    "#### How many  real estate agencies the dataset contains? (★★☆) "
   ]
  },
  {
   "cell_type": "code",
   "execution_count": 10,
   "id": "014ec6c8",
   "metadata": {},
   "outputs": [
    {
     "name": "stdout",
     "output_type": "stream",
     "text": [
      "There are :  1821 Real Estate Agencies\n"
     ]
    }
   ],
   "source": [
    "#Count the real estate agencies\n",
    "real_estate_agencies = ds['realEstate_name'].nunique()\n",
    "\n",
    "#Print the result\n",
    "print('There are : ', real_estate_agencies, 'Real Estate Agencies')"
   ]
  },
  {
   "attachments": {},
   "cell_type": "markdown",
   "id": "899a101e",
   "metadata": {},
   "source": [
    "#### What is the population (level 5) that contains the most houses? (★★☆) "
   ]
  },
  {
   "cell_type": "code",
   "execution_count": 11,
   "id": "9e8b34ba",
   "metadata": {},
   "outputs": [
    {
     "name": "stdout",
     "output_type": "stream",
     "text": [
      "The population with the most houses:  Madrid Capital\n"
     ]
    }
   ],
   "source": [
    "#Count houses for each population\n",
    "population_counts = ds['level5'].value_counts()\n",
    "\n",
    "#Find the population with the highest count\n",
    "most_houses_population = population_counts.idxmax()\n",
    "\n",
    "#Print the population with the most houses\n",
    "print(\"The population with the most houses:\", most_houses_population)"
   ]
  }
 ],
 "metadata": {
  "kernelspec": {
   "display_name": "Python 3",
   "language": "python",
   "name": "python3"
  },
  "language_info": {
   "codemirror_mode": {
    "name": "ipython",
    "version": 3
   },
   "file_extension": ".py",
   "mimetype": "text/x-python",
   "name": "python",
   "nbconvert_exporter": "python",
   "pygments_lexer": "ipython3",
   "version": "3.11.4"
  }
 },
 "nbformat": 4,
 "nbformat_minor": 5
}
